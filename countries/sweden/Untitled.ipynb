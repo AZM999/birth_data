{
 "cells": [
  {
   "cell_type": "code",
   "execution_count": 2,
   "id": "99638a8a",
   "metadata": {},
   "outputs": [
    {
     "name": "stdout",
     "output_type": "stream",
     "text": [
      "0      NaN\n",
      "1        .\n",
      "2     8278\n",
      "3     7929\n",
      "4     8727\n",
      "5     8386\n",
      "6     9319\n",
      "7     8960\n",
      "8     8966\n",
      "9     8607\n",
      "10    8099\n",
      "Name: Levande \\nfödda\\nLive births, dtype: object\n"
     ]
    }
   ],
   "source": [
    "import pandas as pd \n",
    "import matplotlib as mp \n",
    "\n",
    "\n",
    "path = '/home/azm/projects/birth_data/birth_rate/sweden/be0101_manad_befstat_2023m11.xlsx'\n",
    "data = pd.read_excel (path)\n",
    "\n",
    "df = pd.DataFrame (data)\n",
    "\n",
    "print (df.iloc[0:11, 3])\n",
    "\n"
   ]
  },
  {
   "cell_type": "code",
   "execution_count": 18,
   "id": "9e1bf191",
   "metadata": {},
   "outputs": [
    {
     "data": {
      "text/plain": [
       "[9677,\n",
       " 8954,\n",
       " 9646,\n",
       " 9713,\n",
       " 10408,\n",
       " 9877,\n",
       " 10119,\n",
       " 9959,\n",
       " 9323,\n",
       " 9174,\n",
       " 8194,\n",
       " 8033,\n",
       " 9071,\n",
       " 8989,\n",
       " 10067,\n",
       " 9823,\n",
       " 10322,\n",
       " 10216,\n",
       " 10325,\n",
       " 10082,\n",
       " 9419,\n",
       " 9316,\n",
       " 8492,\n",
       " 8141,\n",
       " 8917,\n",
       " 8546,\n",
       " 9194,\n",
       " 8816,\n",
       " 9580,\n",
       " 9531,\n",
       " 9232,\n",
       " 9369,\n",
       " 8374,\n",
       " 8147,\n",
       " 7506,\n",
       " 7522,\n",
       " 8278,\n",
       " 7929,\n",
       " 8727,\n",
       " 8386,\n",
       " 9319,\n",
       " 8960,\n",
       " 8966,\n",
       " 8607,\n",
       " 8099,\n",
       " 8215,\n",
       " 7408,\n",
       " 0]"
      ]
     },
     "execution_count": 18,
     "metadata": {},
     "output_type": "execute_result"
    }
   ],
   "source": [
    "lb = []\n",
    "\n",
    "lb.append (df.iloc[2:14, 3].to_list())\n",
    "lb.append (df.iloc[19:31, 3].to_list())\n",
    "lb.append (df.iloc[34:46, 3].to_list())\n",
    "lb.append (df.iloc[49:61, 3].to_list())\n",
    "lb = lb [:: -1]\n",
    "lb = sum (lb, [])\n",
    "lb\n"
   ]
  },
  {
   "cell_type": "code",
   "execution_count": null,
   "id": "9d599d8a",
   "metadata": {},
   "outputs": [],
   "source": []
  }
 ],
 "metadata": {
  "kernelspec": {
   "display_name": "Python 3 (ipykernel)",
   "language": "python",
   "name": "python3"
  },
  "language_info": {
   "codemirror_mode": {
    "name": "ipython",
    "version": 3
   },
   "file_extension": ".py",
   "mimetype": "text/x-python",
   "name": "python",
   "nbconvert_exporter": "python",
   "pygments_lexer": "ipython3",
   "version": "3.11.5"
  }
 },
 "nbformat": 4,
 "nbformat_minor": 5
}
