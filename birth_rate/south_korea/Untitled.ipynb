{
 "cells": [
  {
   "cell_type": "code",
   "execution_count": 1,
   "id": "26c06028",
   "metadata": {},
   "outputs": [
    {
     "name": "stderr",
     "output_type": "stream",
     "text": [
      "/home/azm/anaconda3/lib/python3.11/site-packages/openpyxl/styles/stylesheet.py:226: UserWarning: Workbook contains no default style, apply openpyxl's default\n",
      "  warn(\"Workbook contains no default style, apply openpyxl's default\")\n"
     ]
    },
    {
     "data": {
      "text/html": [
       "<div>\n",
       "<style scoped>\n",
       "    .dataframe tbody tr th:only-of-type {\n",
       "        vertical-align: middle;\n",
       "    }\n",
       "\n",
       "    .dataframe tbody tr th {\n",
       "        vertical-align: top;\n",
       "    }\n",
       "\n",
       "    .dataframe thead th {\n",
       "        text-align: right;\n",
       "    }\n",
       "</style>\n",
       "<table border=\"1\" class=\"dataframe\">\n",
       "  <thead>\n",
       "    <tr style=\"text-align: right;\">\n",
       "      <th></th>\n",
       "      <th>By si(city), gun(county) and gu(borough)</th>\n",
       "      <th>2022.12</th>\n",
       "      <th>2022.12.1</th>\n",
       "      <th>2022.12.2</th>\n",
       "      <th>2022.11</th>\n",
       "      <th>2022.11.1</th>\n",
       "      <th>2022.11.2</th>\n",
       "      <th>2022.10</th>\n",
       "      <th>2022.10.1</th>\n",
       "      <th>2022.10.2</th>\n",
       "      <th>...</th>\n",
       "      <th>1997.04.2</th>\n",
       "      <th>1997.03</th>\n",
       "      <th>1997.03.1</th>\n",
       "      <th>1997.03.2</th>\n",
       "      <th>1997.02</th>\n",
       "      <th>1997.02.1</th>\n",
       "      <th>1997.02.2</th>\n",
       "      <th>1997.01</th>\n",
       "      <th>1997.01.1</th>\n",
       "      <th>1997.01.2</th>\n",
       "    </tr>\n",
       "  </thead>\n",
       "  <tbody>\n",
       "    <tr>\n",
       "      <th>0</th>\n",
       "      <td>By si(city), gun(county) and gu(borough)</td>\n",
       "      <td>Total (Person)</td>\n",
       "      <td>Male (Person)</td>\n",
       "      <td>Female (Person)</td>\n",
       "      <td>Total (Person)</td>\n",
       "      <td>Male (Person)</td>\n",
       "      <td>Female (Person)</td>\n",
       "      <td>Total (Person)</td>\n",
       "      <td>Male (Person)</td>\n",
       "      <td>Female (Person)</td>\n",
       "      <td>...</td>\n",
       "      <td>Female (Person)</td>\n",
       "      <td>Total (Person)</td>\n",
       "      <td>Male (Person)</td>\n",
       "      <td>Female (Person)</td>\n",
       "      <td>Total (Person)</td>\n",
       "      <td>Male (Person)</td>\n",
       "      <td>Female (Person)</td>\n",
       "      <td>Total (Person)</td>\n",
       "      <td>Male (Person)</td>\n",
       "      <td>Female (Person)</td>\n",
       "    </tr>\n",
       "    <tr>\n",
       "      <th>1</th>\n",
       "      <td>Whole country</td>\n",
       "      <td>16896</td>\n",
       "      <td>8684</td>\n",
       "      <td>8212</td>\n",
       "      <td>18981</td>\n",
       "      <td>9737</td>\n",
       "      <td>9244</td>\n",
       "      <td>20646</td>\n",
       "      <td>10530</td>\n",
       "      <td>10116</td>\n",
       "      <td>...</td>\n",
       "      <td>27500</td>\n",
       "      <td>62160</td>\n",
       "      <td>32333</td>\n",
       "      <td>29827</td>\n",
       "      <td>58144</td>\n",
       "      <td>30086</td>\n",
       "      <td>28058</td>\n",
       "      <td>63268</td>\n",
       "      <td>33266</td>\n",
       "      <td>30002</td>\n",
       "    </tr>\n",
       "    <tr>\n",
       "      <th>2</th>\n",
       "      <td>Seoul</td>\n",
       "      <td>2901</td>\n",
       "      <td>1472</td>\n",
       "      <td>1429</td>\n",
       "      <td>3230</td>\n",
       "      <td>1678</td>\n",
       "      <td>1552</td>\n",
       "      <td>3612</td>\n",
       "      <td>1794</td>\n",
       "      <td>1818</td>\n",
       "      <td>...</td>\n",
       "      <td>5994</td>\n",
       "      <td>13358</td>\n",
       "      <td>6947</td>\n",
       "      <td>6411</td>\n",
       "      <td>12239</td>\n",
       "      <td>6224</td>\n",
       "      <td>6015</td>\n",
       "      <td>13205</td>\n",
       "      <td>6886</td>\n",
       "      <td>6319</td>\n",
       "    </tr>\n",
       "    <tr>\n",
       "      <th>3</th>\n",
       "      <td>Busan</td>\n",
       "      <td>957</td>\n",
       "      <td>528</td>\n",
       "      <td>429</td>\n",
       "      <td>977</td>\n",
       "      <td>479</td>\n",
       "      <td>498</td>\n",
       "      <td>1166</td>\n",
       "      <td>602</td>\n",
       "      <td>564</td>\n",
       "      <td>...</td>\n",
       "      <td>1846</td>\n",
       "      <td>4304</td>\n",
       "      <td>2234</td>\n",
       "      <td>2070</td>\n",
       "      <td>3910</td>\n",
       "      <td>2104</td>\n",
       "      <td>1806</td>\n",
       "      <td>4201</td>\n",
       "      <td>2260</td>\n",
       "      <td>1941</td>\n",
       "    </tr>\n",
       "    <tr>\n",
       "      <th>4</th>\n",
       "      <td>Daegu</td>\n",
       "      <td>663</td>\n",
       "      <td>334</td>\n",
       "      <td>329</td>\n",
       "      <td>802</td>\n",
       "      <td>406</td>\n",
       "      <td>396</td>\n",
       "      <td>848</td>\n",
       "      <td>428</td>\n",
       "      <td>420</td>\n",
       "      <td>...</td>\n",
       "      <td>1422</td>\n",
       "      <td>3337</td>\n",
       "      <td>1815</td>\n",
       "      <td>1522</td>\n",
       "      <td>2994</td>\n",
       "      <td>1608</td>\n",
       "      <td>1386</td>\n",
       "      <td>3345</td>\n",
       "      <td>1764</td>\n",
       "      <td>1581</td>\n",
       "    </tr>\n",
       "  </tbody>\n",
       "</table>\n",
       "<p>5 rows × 937 columns</p>\n",
       "</div>"
      ],
      "text/plain": [
       "   By si(city), gun(county) and gu(borough)            2022.12      2022.12.1  \\\n",
       "0  By si(city), gun(county) and gu(borough)     Total (Person)  Male (Person)   \n",
       "1                                Whole country           16896           8684   \n",
       "2                                        Seoul            2901           1472   \n",
       "3                                        Busan             957            528   \n",
       "4                                        Daegu             663            334   \n",
       "\n",
       "         2022.12.2         2022.11      2022.11.1        2022.11.2  \\\n",
       "0  Female (Person)  Total (Person)  Male (Person)  Female (Person)   \n",
       "1             8212           18981           9737             9244   \n",
       "2             1429            3230           1678             1552   \n",
       "3              429             977            479              498   \n",
       "4              329             802            406              396   \n",
       "\n",
       "          2022.10      2022.10.1        2022.10.2  ...        1997.04.2  \\\n",
       "0  Total (Person)  Male (Person)  Female (Person)  ...  Female (Person)   \n",
       "1           20646          10530            10116  ...            27500   \n",
       "2            3612           1794             1818  ...             5994   \n",
       "3            1166            602              564  ...             1846   \n",
       "4             848            428              420  ...             1422   \n",
       "\n",
       "          1997.03      1997.03.1        1997.03.2         1997.02  \\\n",
       "0  Total (Person)  Male (Person)  Female (Person)  Total (Person)   \n",
       "1           62160          32333            29827           58144   \n",
       "2           13358           6947             6411           12239   \n",
       "3            4304           2234             2070            3910   \n",
       "4            3337           1815             1522            2994   \n",
       "\n",
       "       1997.02.1        1997.02.2         1997.01      1997.01.1  \\\n",
       "0  Male (Person)  Female (Person)  Total (Person)  Male (Person)   \n",
       "1          30086            28058           63268          33266   \n",
       "2           6224             6015           13205           6886   \n",
       "3           2104             1806            4201           2260   \n",
       "4           1608             1386            3345           1764   \n",
       "\n",
       "         1997.01.2  \n",
       "0  Female (Person)  \n",
       "1            30002  \n",
       "2             6319  \n",
       "3             1941  \n",
       "4             1581  \n",
       "\n",
       "[5 rows x 937 columns]"
      ]
     },
     "execution_count": 1,
     "metadata": {},
     "output_type": "execute_result"
    }
   ],
   "source": [
    "import pandas as pd \n",
    "import matplotlib.pyplot as mp \n",
    "\n",
    "path = \"/home/azm/projects/birth_data/birth_rate/south_korea/Live_Births_by_Sex_and_Month_for_city__county__and_district_20240128160644.xlsx\"\n",
    "\n",
    "data = pd.read_excel (path)\n",
    "df  = pd.DataFrame (data)\n",
    "\n",
    "df.head ()"
   ]
  },
  {
   "cell_type": "code",
   "execution_count": 32,
   "id": "b59953e0",
   "metadata": {},
   "outputs": [
    {
     "data": {
      "text/plain": [
       "0     Total (Person)\n",
       "1              25147\n",
       "2               4664\n",
       "3               1510\n",
       "4               1110\n",
       "5               1310\n",
       "6                733\n",
       "7                753\n",
       "8                604\n",
       "9                282\n",
       "10              6746\n",
       "11               595\n",
       "12               797\n",
       "13              1111\n",
       "14               764\n",
       "15               879\n",
       "16              1280\n",
       "17              1648\n",
       "18               361\n",
       "Name: 2017.12, dtype: object"
      ]
     },
     "execution_count": 32,
     "metadata": {},
     "output_type": "execute_result"
    }
   ],
   "source": [
    "df.iloc[:, 181]"
   ]
  },
  {
   "cell_type": "code",
   "execution_count": 27,
   "id": "7175b3a1",
   "metadata": {},
   "outputs": [
    {
     "name": "stdout",
     "output_type": "stream",
     "text": [
      "[16896, 18981, 20646, 21918, 21782, 20475, 18915, 20070, 21164, 23000, 20702, 24637, 17179, 19829, 20749, 21905, 22282, 22364, 21504, 21922, 22703, 23925, 21306, 24894, 19641, 20054, 21884, 23499, 22402, 22999, 22117, 22847, 23299, 24190, 22759, 26646, 21228, 23727, 25613, 24090, 24371, 25222, 23992, 25299, 26104, 27049, 25710, 30271, 22767, 25301, 26474, 26066, 27381, 27033, 26357, 27949, 27734, 29987, 27575, 32198] 60\n"
     ]
    }
   ],
   "source": [
    "lst = df.iloc[1, 1:181].to_list()\n",
    "lb = lst[0:180:3]\n",
    "print (lb, len (lb))"
   ]
  },
  {
   "cell_type": "code",
   "execution_count": 35,
   "id": "c2e881ab",
   "metadata": {},
   "outputs": [
    {
     "name": "stdout",
     "output_type": "stream",
     "text": [
      "['2022-12', '2022-11', '2022-10', '2022-9', '2022-8', '2022-7', '2022-6', '2022-5', '2022-4', '2022-3', '2022-2', '2022-1', '2021-12', '2021-11', '2021-10', '2021-9', '2021-8', '2021-7', '2021-6', '2021-5', '2021-4', '2021-3', '2021-2', '2021-1', '2020-12', '2020-11', '2020-10', '2020-9', '2020-8', '2020-7', '2020-6', '2020-5', '2020-4', '2020-3', '2020-2', '2020-1', '2019-12', '2019-11', '2019-10', '2019-9', '2019-8', '2019-7', '2019-6', '2019-5', '2019-4', '2019-3', '2019-2', '2019-1', '2018-12', '2018-11', '2018-10', '2018-9', '2018-8', '2018-7', '2018-6', '2018-5', '2018-4', '2018-3', '2018-2', '2018-1'] 60\n",
      "['2022Q4', '2022Q3', '2022Q2', '2022Q1', '2021Q4', '2021Q3', '2021Q2', '2021Q1', '2020Q4', '2020Q3', '2020Q2', '2020Q1', '2019Q4', '2019Q3', '2019Q2', '2019Q1', '2018Q4', '2018Q3', '2018Q2', '2018Q1'] 20\n"
     ]
    }
   ],
   "source": [
    "tp = []\n",
    "for i in range(2022, 2017, -1):\n",
    "    for k in range (12, 0, -1):\n",
    "        tp.append(str(i)+'-'+str(k))\n",
    "        \n",
    "print (tp, len (tp))\n",
    "\n",
    "\n",
    "qtr = []\n",
    "for i in range (2022, 2017, -1):\n",
    "    for k in range (4, 0, -1):\n",
    "        qtr.append (str(i) + \"Q\" + str (k))\n",
    "print (qtr, len (qtr))"
   ]
  },
  {
   "cell_type": "code",
   "execution_count": 41,
   "id": "29ba3792",
   "metadata": {},
   "outputs": [
    {
     "name": "stdout",
     "output_type": "stream",
     "text": [
      "[56523, 64175, 60149, 68339, 57757, 66551, 66129, 70125, 61579, 68900, 68263, 73595, 70568, 73683, 75395, 83030, 74542, 80480, 82040, 89760] 20\n"
     ]
    }
   ],
   "source": [
    "qtr =[]\n",
    "\n",
    "for i in range (0, 60, 3):\n",
    "    qtr.append (sum (lb [i:i+3]))\n",
    "print(qtr, len (qtr))"
   ]
  },
  {
   "cell_type": "code",
   "execution_count": 42,
   "id": "fe3ce67e",
   "metadata": {},
   "outputs": [
    {
     "ename": "ValueError",
     "evalue": "The number of FixedLocator locations (60), usually from a call to set_ticks, does not match the number of labels (20).",
     "output_type": "error",
     "traceback": [
      "\u001b[0;31m---------------------------------------------------------------------------\u001b[0m",
      "\u001b[0;31mValueError\u001b[0m                                Traceback (most recent call last)",
      "Cell \u001b[0;32mIn[42], line 7\u001b[0m\n\u001b[1;32m      5\u001b[0m mp\u001b[38;5;241m.\u001b[39mylabel (\u001b[38;5;124m'\u001b[39m\u001b[38;5;124mNo. of Births in South korea\u001b[39m\u001b[38;5;124m'\u001b[39m)\n\u001b[1;32m      6\u001b[0m mp\u001b[38;5;241m.\u001b[39mtitle (\u001b[38;5;124m'\u001b[39m\u001b[38;5;124mSouth Korea live births 2018-2022\u001b[39m\u001b[38;5;124m'\u001b[39m)\n\u001b[0;32m----> 7\u001b[0m mp\u001b[38;5;241m.\u001b[39mxticks (y_pos, qtr, rotation\u001b[38;5;241m=\u001b[39m\u001b[38;5;241m90\u001b[39m)\n\u001b[1;32m      8\u001b[0m mp\u001b[38;5;241m.\u001b[39mshow()\n",
      "File \u001b[0;32m~/anaconda3/lib/python3.11/site-packages/matplotlib/pyplot.py:1893\u001b[0m, in \u001b[0;36mxticks\u001b[0;34m(ticks, labels, minor, **kwargs)\u001b[0m\n\u001b[1;32m   1891\u001b[0m         l\u001b[38;5;241m.\u001b[39m_internal_update(kwargs)\n\u001b[1;32m   1892\u001b[0m \u001b[38;5;28;01melse\u001b[39;00m:\n\u001b[0;32m-> 1893\u001b[0m     labels \u001b[38;5;241m=\u001b[39m ax\u001b[38;5;241m.\u001b[39mset_xticklabels(labels, minor\u001b[38;5;241m=\u001b[39mminor, \u001b[38;5;241m*\u001b[39m\u001b[38;5;241m*\u001b[39mkwargs)\n\u001b[1;32m   1895\u001b[0m \u001b[38;5;28;01mreturn\u001b[39;00m locs, labels\n",
      "File \u001b[0;32m~/anaconda3/lib/python3.11/site-packages/matplotlib/axes/_base.py:74\u001b[0m, in \u001b[0;36m_axis_method_wrapper.__set_name__.<locals>.wrapper\u001b[0;34m(self, *args, **kwargs)\u001b[0m\n\u001b[1;32m     73\u001b[0m \u001b[38;5;28;01mdef\u001b[39;00m \u001b[38;5;21mwrapper\u001b[39m(\u001b[38;5;28mself\u001b[39m, \u001b[38;5;241m*\u001b[39margs, \u001b[38;5;241m*\u001b[39m\u001b[38;5;241m*\u001b[39mkwargs):\n\u001b[0;32m---> 74\u001b[0m     \u001b[38;5;28;01mreturn\u001b[39;00m get_method(\u001b[38;5;28mself\u001b[39m)(\u001b[38;5;241m*\u001b[39margs, \u001b[38;5;241m*\u001b[39m\u001b[38;5;241m*\u001b[39mkwargs)\n",
      "File \u001b[0;32m~/anaconda3/lib/python3.11/site-packages/matplotlib/_api/deprecation.py:297\u001b[0m, in \u001b[0;36mrename_parameter.<locals>.wrapper\u001b[0;34m(*args, **kwargs)\u001b[0m\n\u001b[1;32m    292\u001b[0m     warn_deprecated(\n\u001b[1;32m    293\u001b[0m         since, message\u001b[38;5;241m=\u001b[39m\u001b[38;5;124mf\u001b[39m\u001b[38;5;124m\"\u001b[39m\u001b[38;5;124mThe \u001b[39m\u001b[38;5;132;01m{\u001b[39;00mold\u001b[38;5;132;01m!r}\u001b[39;00m\u001b[38;5;124m parameter of \u001b[39m\u001b[38;5;132;01m{\u001b[39;00mfunc\u001b[38;5;241m.\u001b[39m\u001b[38;5;18m__name__\u001b[39m\u001b[38;5;132;01m}\u001b[39;00m\u001b[38;5;124m() \u001b[39m\u001b[38;5;124m\"\u001b[39m\n\u001b[1;32m    294\u001b[0m         \u001b[38;5;124mf\u001b[39m\u001b[38;5;124m\"\u001b[39m\u001b[38;5;124mhas been renamed \u001b[39m\u001b[38;5;132;01m{\u001b[39;00mnew\u001b[38;5;132;01m!r}\u001b[39;00m\u001b[38;5;124m since Matplotlib \u001b[39m\u001b[38;5;132;01m{\u001b[39;00msince\u001b[38;5;132;01m}\u001b[39;00m\u001b[38;5;124m; support \u001b[39m\u001b[38;5;124m\"\u001b[39m\n\u001b[1;32m    295\u001b[0m         \u001b[38;5;124mf\u001b[39m\u001b[38;5;124m\"\u001b[39m\u001b[38;5;124mfor the old name will be dropped %(removal)s.\u001b[39m\u001b[38;5;124m\"\u001b[39m)\n\u001b[1;32m    296\u001b[0m     kwargs[new] \u001b[38;5;241m=\u001b[39m kwargs\u001b[38;5;241m.\u001b[39mpop(old)\n\u001b[0;32m--> 297\u001b[0m \u001b[38;5;28;01mreturn\u001b[39;00m func(\u001b[38;5;241m*\u001b[39margs, \u001b[38;5;241m*\u001b[39m\u001b[38;5;241m*\u001b[39mkwargs)\n",
      "File \u001b[0;32m~/anaconda3/lib/python3.11/site-packages/matplotlib/axis.py:1969\u001b[0m, in \u001b[0;36mAxis.set_ticklabels\u001b[0;34m(self, labels, minor, fontdict, **kwargs)\u001b[0m\n\u001b[1;32m   1965\u001b[0m \u001b[38;5;28;01mif\u001b[39;00m \u001b[38;5;28misinstance\u001b[39m(locator, mticker\u001b[38;5;241m.\u001b[39mFixedLocator):\n\u001b[1;32m   1966\u001b[0m     \u001b[38;5;66;03m# Passing [] as a list of labels is often used as a way to\u001b[39;00m\n\u001b[1;32m   1967\u001b[0m     \u001b[38;5;66;03m# remove all tick labels, so only error for > 0 labels\u001b[39;00m\n\u001b[1;32m   1968\u001b[0m     \u001b[38;5;28;01mif\u001b[39;00m \u001b[38;5;28mlen\u001b[39m(locator\u001b[38;5;241m.\u001b[39mlocs) \u001b[38;5;241m!=\u001b[39m \u001b[38;5;28mlen\u001b[39m(labels) \u001b[38;5;129;01mand\u001b[39;00m \u001b[38;5;28mlen\u001b[39m(labels) \u001b[38;5;241m!=\u001b[39m \u001b[38;5;241m0\u001b[39m:\n\u001b[0;32m-> 1969\u001b[0m         \u001b[38;5;28;01mraise\u001b[39;00m \u001b[38;5;167;01mValueError\u001b[39;00m(\n\u001b[1;32m   1970\u001b[0m             \u001b[38;5;124m\"\u001b[39m\u001b[38;5;124mThe number of FixedLocator locations\u001b[39m\u001b[38;5;124m\"\u001b[39m\n\u001b[1;32m   1971\u001b[0m             \u001b[38;5;124mf\u001b[39m\u001b[38;5;124m\"\u001b[39m\u001b[38;5;124m (\u001b[39m\u001b[38;5;132;01m{\u001b[39;00m\u001b[38;5;28mlen\u001b[39m(locator\u001b[38;5;241m.\u001b[39mlocs)\u001b[38;5;132;01m}\u001b[39;00m\u001b[38;5;124m), usually from a call to\u001b[39m\u001b[38;5;124m\"\u001b[39m\n\u001b[1;32m   1972\u001b[0m             \u001b[38;5;124m\"\u001b[39m\u001b[38;5;124m set_ticks, does not match\u001b[39m\u001b[38;5;124m\"\u001b[39m\n\u001b[1;32m   1973\u001b[0m             \u001b[38;5;124mf\u001b[39m\u001b[38;5;124m\"\u001b[39m\u001b[38;5;124m the number of labels (\u001b[39m\u001b[38;5;132;01m{\u001b[39;00m\u001b[38;5;28mlen\u001b[39m(labels)\u001b[38;5;132;01m}\u001b[39;00m\u001b[38;5;124m).\u001b[39m\u001b[38;5;124m\"\u001b[39m)\n\u001b[1;32m   1974\u001b[0m     tickd \u001b[38;5;241m=\u001b[39m {loc: lab \u001b[38;5;28;01mfor\u001b[39;00m loc, lab \u001b[38;5;129;01min\u001b[39;00m \u001b[38;5;28mzip\u001b[39m(locator\u001b[38;5;241m.\u001b[39mlocs, labels)}\n\u001b[1;32m   1975\u001b[0m     func \u001b[38;5;241m=\u001b[39m functools\u001b[38;5;241m.\u001b[39mpartial(\u001b[38;5;28mself\u001b[39m\u001b[38;5;241m.\u001b[39m_format_with_dict, tickd)\n",
      "\u001b[0;31mValueError\u001b[0m: The number of FixedLocator locations (60), usually from a call to set_ticks, does not match the number of labels (20)."
     ]
    },
    {
     "data": {
      "image/png": "[encoded data removed]",
      "text/plain": [
       "<Figure size 640x480 with 1 Axes>"
      ]
     },
     "metadata": {},
     "output_type": "display_data"
    }
   ],
   "source": [
    "#plotting results\n",
    "y_pos = range (len (tp))\n",
    "births = mp.bar (tp, lb)\n",
    "mp.xlabel ('Month')\n",
    "mp.ylabel ('No. of Births in South korea')\n",
    "mp.title ('South Korea live births 2018-2022')\n",
    "mp.xticks (y_pos, qtr, rotation=90)\n",
    "mp.show()"
   ]
  },
  {
   "cell_type": "code",
   "execution_count": null,
   "id": "3f9933be",
   "metadata": {},
   "outputs": [],
   "source": []
  }
 ],
 "metadata": {
  "kernelspec": {
   "display_name": "Python 3 (ipykernel)",
   "language": "python",
   "name": "python3"
  },
  "language_info": {
   "codemirror_mode": {
    "name": "ipython",
    "version": 3
   },
   "file_extension": ".py",
   "mimetype": "text/x-python",
   "name": "python",
   "nbconvert_exporter": "python",
   "pygments_lexer": "ipython3",
   "version": "3.11.5"
  }
 },
 "nbformat": 4,
 "nbformat_minor": 5
}
