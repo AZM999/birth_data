{
 "cells": [
  {
   "cell_type": "code",
   "execution_count": 18,
   "id": "cf0361f6",
   "metadata": {},
   "outputs": [],
   "source": [
    "import pandas as pd \n",
    "import matplotlib.pyplot as mp \n",
    "\n",
    "path = \"/home/azm/projects/birth_data/birth_rate/turk/births by month.xlsx\"\n",
    "\n",
    "data = pd.read_excel (path)\n",
    "df  = pd.DataFrame (data)\n"
   ]
  },
  {
   "cell_type": "code",
   "execution_count": 20,
   "id": "8eac47f2",
   "metadata": {},
   "outputs": [
    {
     "data": {
      "text/plain": [
       "[]"
      ]
     },
     "execution_count": 20,
     "metadata": {},
     "output_type": "execute_result"
    }
   ],
   "source": [
    "lb = []\n",
    "\n",
    "for i in range (21, 17):\n",
    "    lb.append (df.iloc[i, 2:].to_list())\n",
    "lb =sum (lb, [])\n",
    "\n",
    "tp = []\n",
    "for i in range(2022, 2017, -1):\n",
    "    for k in range (12, 0, -1):\n",
    "        tp.append(str(i)+'-'+str(k))\n",
    "        \n",
    "\n",
    "qtr = []\n",
    "for i in range (2022, 2017, -1):\n",
    "    for k in range (4, 0, -1):\n",
    "        qtr.append (str(i) + \"Q\" + str (k))\n",
    "        \n",
    "qs =[]\n",
    "\n",
    "for i in range (0, 60, 3):\n",
    "    qs.append (sum (lb [i:i+3]))\n",
    "\n",
    "lb"
   ]
  },
  {
   "cell_type": "code",
   "execution_count": null,
   "id": "9812e881",
   "metadata": {},
   "outputs": [],
   "source": [
    "#plotting results month wise\n",
    "y_pos = range (len (tp))\n",
    "births = mp.bar (tp, lb)\n",
    "mp.xlabel ('Month')\n",
    "mp.ylabel ('No. of Births)')\n",
    "mp.title ('Turkiye live births 2018-2022')\n",
    "mp.xticks (y_pos, tp, rotation=90)\n",
    "mp.show()\n",
    "\n",
    "# plotting results quarter wise\n",
    "\n",
    "mp.clf()\n",
    "y_pos2 = range (len (qtr))\n",
    "births = mp.bar (qtr, qs)\n",
    "mp.xlabel ('Quarter')\n",
    "mp.ylabel ('No. of Births ')\n",
    "mp.title ('UK (england+wales) live births 2018-2022 Quarter wise')\n",
    "mp.xticks (y_pos2, qtr, rotation=90)\n",
    "mp.show()"
   ]
  }
 ],
 "metadata": {
  "kernelspec": {
   "display_name": "Python 3 (ipykernel)",
   "language": "python",
   "name": "python3"
  },
  "language_info": {
   "codemirror_mode": {
    "name": "ipython",
    "version": 3
   },
   "file_extension": ".py",
   "mimetype": "text/x-python",
   "name": "python",
   "nbconvert_exporter": "python",
   "pygments_lexer": "ipython3",
   "version": "3.11.5"
  }
 },
 "nbformat": 4,
 "nbformat_minor": 5
}
